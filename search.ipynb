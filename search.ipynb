{
 "cells": [
  {
   "cell_type": "code",
   "execution_count": 10,
   "id": "a2466107-a176-4f71-a21a-7533254f438f",
   "metadata": {},
   "outputs": [
    {
     "name": "stdout",
     "output_type": "stream",
     "text": [
      " 7588375 goodreads_books.json.gz\n"
     ]
    }
   ],
   "source": [
    "!wc -l 'goodreads_books.json.gz'"
   ]
  },
  {
   "cell_type": "code",
   "execution_count": 11,
   "id": "fdcd951c-2750-45ee-af3d-b6f7fa76707d",
   "metadata": {},
   "outputs": [
    {
     "name": "stdout",
     "output_type": "stream",
     "text": [
      "-rw-r--r--@ 1 khadijagardezi  staff   1.9G Feb 17 19:36 goodreads_books.json.gz\n"
     ]
    }
   ],
   "source": [
    "!ls -lh | grep 'goodreads_books.json.gz'"
   ]
  },
  {
   "cell_type": "code",
   "execution_count": 12,
   "id": "6593c405-943d-4e9c-b032-f41ac3df5c35",
   "metadata": {},
   "outputs": [],
   "source": [
    "import gzip \n",
    "with gzip.open(\"goodreads_books.json.gz\", 'r') as f:\n",
    "    line = f.readline()"
   ]
  },
  {
   "cell_type": "code",
   "execution_count": 13,
   "id": "c63395f4-348f-4028-86d3-604cef192ed4",
   "metadata": {},
   "outputs": [],
   "source": [
    "import json\n",
    "# json.loads(line) "
   ]
  },
  {
   "cell_type": "code",
   "execution_count": 14,
   "id": "d5923d48-6c2c-4a86-9f72-ba4eb2254f2d",
   "metadata": {},
   "outputs": [],
   "source": [
    "def parse_fields(line):\n",
    "    data = json.loads(line)\n",
    "    return {\n",
    "        # Extract the book ID,title,url,cover_image,ratings\n",
    "        'book_id': data['book_id'],         \n",
    "        'title': data['title_without_series'],  \n",
    "        'ratings': data['ratings_count'],   \n",
    "        'url': data['url'],                \n",
    "        'cover_image': data['image_url']    \n",
    "    }\n"
   ]
  },
  {
   "cell_type": "code",
   "execution_count": 15,
   "id": "237d223d-711f-4793-85b5-582f82dd2cd0",
   "metadata": {},
   "outputs": [],
   "source": [
    "books_titles = []\n",
    "\n",
    "# Books data\n",
    "with gzip.open('goodreads_books.json.gz', 'r') as f:\n",
    "    while True:\n",
    "        line = f.readline()\n",
    "        if not line:\n",
    "            break \n",
    "        fields = parse_fields(line) \n",
    "        \n",
    "        try:\n",
    "            ratings = int(fields['ratings'])\n",
    "        except ValueError:\n",
    "            continue\n",
    "        if ratings > 15:\n",
    "            books_titles.append(fields) \n"
   ]
  },
  {
   "cell_type": "code",
   "execution_count": 38,
   "id": "eb2cb2b4-9c0d-4aa2-a627-e6da05de0ce8",
   "metadata": {},
   "outputs": [
    {
     "data": {
      "text/html": [
       "<div>\n",
       "<style scoped>\n",
       "    .dataframe tbody tr th:only-of-type {\n",
       "        vertical-align: middle;\n",
       "    }\n",
       "\n",
       "    .dataframe tbody tr th {\n",
       "        vertical-align: top;\n",
       "    }\n",
       "\n",
       "    .dataframe thead th {\n",
       "        text-align: right;\n",
       "    }\n",
       "</style>\n",
       "<table border=\"1\" class=\"dataframe\">\n",
       "  <thead>\n",
       "    <tr style=\"text-align: right;\">\n",
       "      <th></th>\n",
       "      <th>book_id</th>\n",
       "      <th>title</th>\n",
       "      <th>ratings</th>\n",
       "      <th>url</th>\n",
       "      <th>cover_image</th>\n",
       "    </tr>\n",
       "  </thead>\n",
       "  <tbody>\n",
       "    <tr>\n",
       "      <th>0</th>\n",
       "      <td>7327624</td>\n",
       "      <td>The Unschooled Wizard (Sun Wolf and Starhawk, ...</td>\n",
       "      <td>140</td>\n",
       "      <td>https://www.goodreads.com/book/show/7327624-th...</td>\n",
       "      <td>https://images.gr-assets.com/books/1304100136m...</td>\n",
       "    </tr>\n",
       "    <tr>\n",
       "      <th>1</th>\n",
       "      <td>6066819</td>\n",
       "      <td>Best Friends Forever</td>\n",
       "      <td>51184</td>\n",
       "      <td>https://www.goodreads.com/book/show/6066819-be...</td>\n",
       "      <td>https://s.gr-assets.com/assets/nophoto/book/11...</td>\n",
       "    </tr>\n",
       "    <tr>\n",
       "      <th>2</th>\n",
       "      <td>287141</td>\n",
       "      <td>The Aeneid for Boys and Girls</td>\n",
       "      <td>46</td>\n",
       "      <td>https://www.goodreads.com/book/show/287141.The...</td>\n",
       "      <td>https://s.gr-assets.com/assets/nophoto/book/11...</td>\n",
       "    </tr>\n",
       "    <tr>\n",
       "      <th>3</th>\n",
       "      <td>6066812</td>\n",
       "      <td>All's Fairy in Love and War (Avalon: Web of Ma...</td>\n",
       "      <td>98</td>\n",
       "      <td>https://www.goodreads.com/book/show/6066812-al...</td>\n",
       "      <td>https://images.gr-assets.com/books/1316637798m...</td>\n",
       "    </tr>\n",
       "    <tr>\n",
       "      <th>4</th>\n",
       "      <td>287149</td>\n",
       "      <td>The Devil's Notebook</td>\n",
       "      <td>986</td>\n",
       "      <td>https://www.goodreads.com/book/show/287149.The...</td>\n",
       "      <td>https://images.gr-assets.com/books/1328768789m...</td>\n",
       "    </tr>\n",
       "  </tbody>\n",
       "</table>\n",
       "</div>"
      ],
      "text/plain": [
       "   book_id                                              title ratings  \\\n",
       "0  7327624  The Unschooled Wizard (Sun Wolf and Starhawk, ...     140   \n",
       "1  6066819                               Best Friends Forever   51184   \n",
       "2   287141                      The Aeneid for Boys and Girls      46   \n",
       "3  6066812  All's Fairy in Love and War (Avalon: Web of Ma...      98   \n",
       "4   287149                               The Devil's Notebook     986   \n",
       "\n",
       "                                                 url  \\\n",
       "0  https://www.goodreads.com/book/show/7327624-th...   \n",
       "1  https://www.goodreads.com/book/show/6066819-be...   \n",
       "2  https://www.goodreads.com/book/show/287141.The...   \n",
       "3  https://www.goodreads.com/book/show/6066812-al...   \n",
       "4  https://www.goodreads.com/book/show/287149.The...   \n",
       "\n",
       "                                         cover_image  \n",
       "0  https://images.gr-assets.com/books/1304100136m...  \n",
       "1  https://s.gr-assets.com/assets/nophoto/book/11...  \n",
       "2  https://s.gr-assets.com/assets/nophoto/book/11...  \n",
       "3  https://images.gr-assets.com/books/1316637798m...  \n",
       "4  https://images.gr-assets.com/books/1328768789m...  "
      ]
     },
     "execution_count": 38,
     "metadata": {},
     "output_type": "execute_result"
    }
   ],
   "source": [
    "import pandas as pd\n",
    "\n",
    "titles = pd.DataFrame.from_dict(books_titles)\n",
    "titles.head()"
   ]
  },
  {
   "cell_type": "code",
   "execution_count": 39,
   "id": "7be51a81-7b8d-4b38-b312-83b2c101b41f",
   "metadata": {},
   "outputs": [],
   "source": [
    "titles['ratings'] = pd.to_numeric(titles['ratings'])"
   ]
  },
  {
   "cell_type": "code",
   "execution_count": 40,
   "id": "0ccf17e0-ccdc-4ca8-8c80-5eae194a0144",
   "metadata": {},
   "outputs": [],
   "source": [
    "titles['mod_title'] = titles['title'].str.replace('[^a-zA-Z0-9 ]', '', regex=True)"
   ]
  },
  {
   "cell_type": "code",
   "execution_count": 41,
   "id": "2148a1b5-bba9-4896-8390-f0e95cc8e28e",
   "metadata": {},
   "outputs": [],
   "source": [
    "titles['mod_title'] = titles['mod_title'].str.lower()"
   ]
  },
  {
   "cell_type": "code",
   "execution_count": 42,
   "id": "2a5946a4-75b7-47fd-9688-46fffad85ff0",
   "metadata": {},
   "outputs": [],
   "source": [
    "titles['mod_title'] = titles['mod_title'].str.replace('\\s+', \" \", regex=True)"
   ]
  },
  {
   "cell_type": "code",
   "execution_count": 43,
   "id": "df8de9f0-ed8c-4bb0-88e5-cd6f285e7fa9",
   "metadata": {},
   "outputs": [
    {
     "data": {
      "text/html": [
       "<div>\n",
       "<style scoped>\n",
       "    .dataframe tbody tr th:only-of-type {\n",
       "        vertical-align: middle;\n",
       "    }\n",
       "\n",
       "    .dataframe tbody tr th {\n",
       "        vertical-align: top;\n",
       "    }\n",
       "\n",
       "    .dataframe thead th {\n",
       "        text-align: right;\n",
       "    }\n",
       "</style>\n",
       "<table border=\"1\" class=\"dataframe\">\n",
       "  <thead>\n",
       "    <tr style=\"text-align: right;\">\n",
       "      <th></th>\n",
       "      <th>book_id</th>\n",
       "      <th>title</th>\n",
       "      <th>ratings</th>\n",
       "      <th>url</th>\n",
       "      <th>cover_image</th>\n",
       "      <th>mod_title</th>\n",
       "    </tr>\n",
       "  </thead>\n",
       "  <tbody>\n",
       "    <tr>\n",
       "      <th>0</th>\n",
       "      <td>7327624</td>\n",
       "      <td>The Unschooled Wizard (Sun Wolf and Starhawk, ...</td>\n",
       "      <td>140</td>\n",
       "      <td>https://www.goodreads.com/book/show/7327624-th...</td>\n",
       "      <td>https://images.gr-assets.com/books/1304100136m...</td>\n",
       "      <td>the unschooled wizard sun wolf and starhawk 12</td>\n",
       "    </tr>\n",
       "    <tr>\n",
       "      <th>1</th>\n",
       "      <td>6066819</td>\n",
       "      <td>Best Friends Forever</td>\n",
       "      <td>51184</td>\n",
       "      <td>https://www.goodreads.com/book/show/6066819-be...</td>\n",
       "      <td>https://s.gr-assets.com/assets/nophoto/book/11...</td>\n",
       "      <td>best friends forever</td>\n",
       "    </tr>\n",
       "    <tr>\n",
       "      <th>2</th>\n",
       "      <td>287141</td>\n",
       "      <td>The Aeneid for Boys and Girls</td>\n",
       "      <td>46</td>\n",
       "      <td>https://www.goodreads.com/book/show/287141.The...</td>\n",
       "      <td>https://s.gr-assets.com/assets/nophoto/book/11...</td>\n",
       "      <td>the aeneid for boys and girls</td>\n",
       "    </tr>\n",
       "    <tr>\n",
       "      <th>3</th>\n",
       "      <td>6066812</td>\n",
       "      <td>All's Fairy in Love and War (Avalon: Web of Ma...</td>\n",
       "      <td>98</td>\n",
       "      <td>https://www.goodreads.com/book/show/6066812-al...</td>\n",
       "      <td>https://images.gr-assets.com/books/1316637798m...</td>\n",
       "      <td>alls fairy in love and war avalon web of magic 8</td>\n",
       "    </tr>\n",
       "    <tr>\n",
       "      <th>4</th>\n",
       "      <td>287149</td>\n",
       "      <td>The Devil's Notebook</td>\n",
       "      <td>986</td>\n",
       "      <td>https://www.goodreads.com/book/show/287149.The...</td>\n",
       "      <td>https://images.gr-assets.com/books/1328768789m...</td>\n",
       "      <td>the devils notebook</td>\n",
       "    </tr>\n",
       "  </tbody>\n",
       "</table>\n",
       "</div>"
      ],
      "text/plain": [
       "   book_id                                              title  ratings  \\\n",
       "0  7327624  The Unschooled Wizard (Sun Wolf and Starhawk, ...      140   \n",
       "1  6066819                               Best Friends Forever    51184   \n",
       "2   287141                      The Aeneid for Boys and Girls       46   \n",
       "3  6066812  All's Fairy in Love and War (Avalon: Web of Ma...       98   \n",
       "4   287149                               The Devil's Notebook      986   \n",
       "\n",
       "                                                 url  \\\n",
       "0  https://www.goodreads.com/book/show/7327624-th...   \n",
       "1  https://www.goodreads.com/book/show/6066819-be...   \n",
       "2  https://www.goodreads.com/book/show/287141.The...   \n",
       "3  https://www.goodreads.com/book/show/6066812-al...   \n",
       "4  https://www.goodreads.com/book/show/287149.The...   \n",
       "\n",
       "                                         cover_image  \\\n",
       "0  https://images.gr-assets.com/books/1304100136m...   \n",
       "1  https://s.gr-assets.com/assets/nophoto/book/11...   \n",
       "2  https://s.gr-assets.com/assets/nophoto/book/11...   \n",
       "3  https://images.gr-assets.com/books/1316637798m...   \n",
       "4  https://images.gr-assets.com/books/1328768789m...   \n",
       "\n",
       "                                          mod_title  \n",
       "0    the unschooled wizard sun wolf and starhawk 12  \n",
       "1                              best friends forever  \n",
       "2                     the aeneid for boys and girls  \n",
       "3  alls fairy in love and war avalon web of magic 8  \n",
       "4                               the devils notebook  "
      ]
     },
     "execution_count": 43,
     "metadata": {},
     "output_type": "execute_result"
    }
   ],
   "source": [
    "# Filter out any rows where the 'mod_title' column is an empty string.\n",
    "titles = titles[titles['mod_title'].str.len()> 0 ]\n",
    "titles.head()"
   ]
  },
  {
   "cell_type": "code",
   "execution_count": 44,
   "id": "71e042bb-1a79-4def-8907-b37bb2cfb2c2",
   "metadata": {},
   "outputs": [],
   "source": [
    "titles.to_json(\"books_titles.json\")"
   ]
  },
  {
   "cell_type": "markdown",
   "id": "2c8a6544-5db3-46be-8750-4c652952951e",
   "metadata": {
    "tags": []
   },
   "source": [
    "### Search Engine for books"
   ]
  },
  {
   "cell_type": "code",
   "execution_count": 45,
   "id": "e8591299-adbf-478e-838a-c3028fa52e40",
   "metadata": {},
   "outputs": [],
   "source": [
    "# !pip install gradio"
   ]
  },
  {
   "cell_type": "code",
   "execution_count": 46,
   "id": "6e71c78e-b6d0-4c90-bb68-ce6815e6a8f4",
   "metadata": {},
   "outputs": [],
   "source": [
    "import gradio as gr"
   ]
  },
  {
   "cell_type": "code",
   "execution_count": 47,
   "id": "052f926c-0478-401f-a337-a60c7f831271",
   "metadata": {},
   "outputs": [],
   "source": [
    "from sklearn.feature_extraction.text import TfidfVectorizer\n",
    "vectorizer = TfidfVectorizer()\n",
    "tfidf = vectorizer.fit_transform(titles[\"mod_title\"])\n"
   ]
  },
  {
   "cell_type": "code",
   "execution_count": 48,
   "id": "997bb877-8fc7-4e43-9b16-a1a9fb6ca820",
   "metadata": {},
   "outputs": [],
   "source": [
    "from sklearn.metrics.pairwise import cosine_similarity\n",
    "import numpy as np\n",
    "import re\n"
   ]
  },
  {
   "cell_type": "code",
   "execution_count": 52,
   "id": "abcc8ac2-2eab-499b-b307-0a75c610305c",
   "metadata": {},
   "outputs": [],
   "source": [
    "def make_clickable(val):\n",
    "    return '<a target=\"_black\" href=\"{}\">Goodreads</a>'.format(val)\n",
    "\n",
    "def show_image(val):\n",
    "    return '<img src=\"{}\" />'.format(val)\n",
    "\n",
    "def search(query, vectorizer):\n",
    "    processed = re.sub(\"[^a-zA-Z0-9 ]\", \"\", query.lower())\n",
    "    query_vec = vectorizer.transform([processed])\n",
    "    similarity = cosine_similarity(query_vec, tfidf).flatten()\n",
    "    indices = np.argpartition(similarity, -10)[-10:]\n",
    "    results = titles.iloc[indices]\n",
    "    results = results.sort_values(\"ratings\", ascending=False)\n",
    "    results['url'] = results['url'].apply(make_clickable)\n",
    "    results['cover_image'] = results['cover_image'].apply(show_image)\n",
    "    results['mod_title'] = results['mod_title'].apply(lambda x: f'<p style=\"font-weight: bold;\">{x}</p>') \n",
    "    return results.head(5).to_html(escape=False, index=False)"
   ]
  },
  {
   "cell_type": "code",
   "execution_count": 50,
   "id": "2a2c602b-01d0-4102-8f94-fcabb1297c25",
   "metadata": {},
   "outputs": [],
   "source": [
    "def recommend_books(book_name):\n",
    "    try:\n",
    "        search_screen = search(book_name, vectorizer)\n",
    "        return search_screen\n",
    "    except Exception as e:\n",
    "        return f\"An error occurred: {e}\""
   ]
  },
  {
   "cell_type": "code",
   "execution_count": 53,
   "id": "d8dafbb0-700a-4d41-9d49-b736d723a7e7",
   "metadata": {},
   "outputs": [
    {
     "name": "stdout",
     "output_type": "stream",
     "text": [
      "Running on local URL:  http://127.0.0.1:7887\n",
      "\n",
      "To create a public link, set `share=True` in `launch()`.\n"
     ]
    },
    {
     "data": {
      "text/html": [
       "<div><iframe src=\"http://127.0.0.1:7887/\" width=\"100%\" height=\"500\" allow=\"autoplay; camera; microphone; clipboard-read; clipboard-write;\" frameborder=\"0\" allowfullscreen></iframe></div>"
      ],
      "text/plain": [
       "<IPython.core.display.HTML object>"
      ]
     },
     "metadata": {},
     "output_type": "display_data"
    },
    {
     "data": {
      "text/plain": []
     },
     "execution_count": 53,
     "metadata": {},
     "output_type": "execute_result"
    }
   ],
   "source": [
    "iface = gr.Interface(\n",
    "    fn= recommend_books,\n",
    "    inputs=gr.Textbox(lines=1, placeholder=\"Enter Book Name Here...\"),\n",
    "    outputs=\"html\",\n",
    "    title=\"Book Recommendation System\",\n",
    "    description=\"Search A Book You Like\"\n",
    ")\n",
    "\n",
    "iface.launch()"
   ]
  },
  {
   "cell_type": "code",
   "execution_count": null,
   "id": "49d0498c-ec66-46cf-a941-2134b7e41bfc",
   "metadata": {},
   "outputs": [],
   "source": []
  },
  {
   "cell_type": "code",
   "execution_count": null,
   "id": "ad2fabea-9b05-4fb4-9a8e-7bdfb5000cb8",
   "metadata": {},
   "outputs": [],
   "source": []
  }
 ],
 "metadata": {
  "kernelspec": {
   "display_name": "Python 3 (ipykernel)",
   "language": "python",
   "name": "python3"
  },
  "language_info": {
   "codemirror_mode": {
    "name": "ipython",
    "version": 3
   },
   "file_extension": ".py",
   "mimetype": "text/x-python",
   "name": "python",
   "nbconvert_exporter": "python",
   "pygments_lexer": "ipython3",
   "version": "3.9.13"
  },
  "widgets": {
   "application/vnd.jupyter.widget-state+json": {
    "state": {},
    "version_major": 2,
    "version_minor": 0
   }
  }
 },
 "nbformat": 4,
 "nbformat_minor": 5
}
